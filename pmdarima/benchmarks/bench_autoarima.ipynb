{
 "cells": [
  {
   "cell_type": "markdown",
   "metadata": {},
   "source": [
    "# `auto_arima` benchmarks\n",
    "\n",
    "This notebook benchmarks the `auto_arima` function with various hyperparametric combinations. All of the benchmarks are used with the `wineind` data found in `pmdarima.datasets.load_wineind`."
   ]
  },
  {
   "cell_type": "code",
   "execution_count": 8,
   "metadata": {},
   "outputs": [
    {
     "name": "stdout",
     "output_type": "stream",
     "text": [
      "Pyramid version: 1.0.0-dev\n"
     ]
    }
   ],
   "source": [
    "import pmdarima\n",
    "from pmdarima.datasets import load_wineind\n",
    "\n",
    "wineind = load_wineind()\n",
    "print(\"Pyramid version: %s\" % pmdarima.__version__)"
   ]
  },
  {
   "cell_type": "code",
   "execution_count": 9,
   "metadata": {},
   "outputs": [],
   "source": [
    "import numpy as np\n",
    "import gc\n",
    "from datetime import datetime\n",
    "import matplotlib.pyplot as plt\n",
    "%matplotlib inline\n",
    "\n",
    "# to store the results\n",
    "stepwise_results = []\n",
    "grid_results = []\n",
    "mu_second = 0.0 + 10 ** 6 # number of microseconds in a second"
   ]
  },
  {
   "cell_type": "code",
   "execution_count": 10,
   "metadata": {},
   "outputs": [],
   "source": [
    "def benchmark(x, results, **kwargs):\n",
    "    from pmdarima.arima import auto_arima\n",
    "    \n",
    "    gc.collect()\n",
    "    \n",
    "    # start\n",
    "    tstart = datetime.now()\n",
    "    auto_arima(x, **kwargs)\n",
    "    delta = datetime.now() - tstart\n",
    "    # stop\n",
    "    \n",
    "    results.append(delta.seconds + delta.microseconds / mu_second)"
   ]
  },
  {
   "cell_type": "code",
   "execution_count": 11,
   "metadata": {},
   "outputs": [
    {
     "name": "stderr",
     "output_type": "stream",
     "text": [
      "/anaconda3/envs/pmdenv/lib/python3.6/site-packages/pmdarima/arima/auto.py:864: ModelFitWarning: Unable to fit ARIMA for order=(1, 1, 1) seasonal_order=(0, 0, 0, 1); data is likely non-stationary. (if you do not want to see these warnings, run with error_action=\"ignore\")\n",
      "  ModelFitWarning)\n",
      "/anaconda3/envs/pmdenv/lib/python3.6/site-packages/pmdarima/arima/auto.py:864: ModelFitWarning: Unable to fit ARIMA for order=(1, 1, 1) seasonal_order=(0, 0, 0, 1); data is likely non-stationary. (if you do not want to see these warnings, run with error_action=\"ignore\")\n",
      "  ModelFitWarning)\n"
     ]
    },
    {
     "data": {
      "image/png": "[encoded data removed]",
      "text/plain": [
       "<Figure size 432x288 with 1 Axes>"
      ]
     },
     "metadata": {
      "needs_background": "light"
     },
     "output_type": "display_data"
    }
   ],
   "source": [
    "def fit_benchmark(**kwargs):\n",
    "    # pop these, since we'll manually assign\n",
    "    kwargs.pop('stepwise', None)\n",
    "    kwargs.pop('n_jobs', None)\n",
    "    \n",
    "    for stepwise, results in ((True, stepwise_results), (False, grid_results)):\n",
    "        benchmark(wineind, results, **kwargs)\n",
    "        \n",
    "def plot_benchmarks():\n",
    "    plt.figure('auto_arima benchmark results')\n",
    "    xx = len(stepwise_results)\n",
    "    plt.scatter(x=xx, y=stepwise_results, label='stepwise')\n",
    "    plt.scatter(x=xx, y=grid_results, label='grid')\n",
    "    plt.legend(loc='upper left')\n",
    "    plt.ylabel('Time (s)')\n",
    "    plt.show()\n",
    "\n",
    "# fit with all default args\n",
    "fit_benchmark(suppress_warnings=True)\n",
    "plot_benchmarks()"
   ]
  },
  {
   "cell_type": "code",
   "execution_count": null,
   "metadata": {
    "collapsed": true
   },
   "outputs": [],
   "source": []
  }
 ],
 "metadata": {
  "anaconda-cloud": {},
  "kernelspec": {
   "display_name": "Python [conda env:pmdenv]",
   "language": "python",
   "name": "conda-env-pmdenv-py"
  },
  "language_info": {
   "codemirror_mode": {
    "name": "ipython",
    "version": 3
   },
   "file_extension": ".py",
   "mimetype": "text/x-python",
   "name": "python",
   "nbconvert_exporter": "python",
   "pygments_lexer": "ipython3",
   "version": "3.6.7"
  }
 },
 "nbformat": 4,
 "nbformat_minor": 1
}
