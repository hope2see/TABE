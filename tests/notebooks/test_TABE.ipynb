{
 "cells": [
  {
   "cell_type": "markdown",
   "metadata": {},
   "source": [
    "# Quick guide to install & run TABE "
   ]
  },
  {
   "cell_type": "markdown",
   "metadata": {},
   "source": [
    "### Download TABE"
   ]
  },
  {
   "cell_type": "code",
   "execution_count": null,
   "metadata": {},
   "outputs": [],
   "source": [
    "\n",
    "# Download TABE repository\n",
    "!git clone https://github.com/hope2see/tabe1.0.git\n",
    "\n",
    "# cd into the root of TABE repository directory \n",
    "%cd tabe1.0\n"
   ]
  },
  {
   "cell_type": "markdown",
   "metadata": {},
   "source": [
    " ### Download others, and Install\n",
    " If you are in the root of TABE repository directory, then download other required repository and install required packages like below. "
   ]
  },
  {
   "cell_type": "code",
   "execution_count": null,
   "metadata": {},
   "outputs": [],
   "source": [
    "# You should be at the root of TABE repository directory.\n",
    "\n",
    "# Download Time-Series-Library \n",
    "!git clone https://github.com/thuml/Time-Series-Library.git\n",
    "\n",
    "# Download Time-MoE \n",
    "!git clone https://github.com/Time-MoE/Time-MoE.git\n",
    "\n",
    "# Install pmdarima \n",
    "# We install by compiling source, because the currently released package is not compatible with python3.11 nor newer.\n",
    "# see) http://alkaline-ml.com/pmdarima/setup.html#setup\n",
    "!git clone https://github.com/alkaline-ml/pmdarima.git\n",
    "\n",
    "# Install requirements for pmdarima \n",
    "# modify setuptools version to make it compatible with `distutils` \n",
    "# !sed -i 's/setuptools>=38.6.0,!=50.0.0/setuptools==58.0.4/' ./pmdarima/requirements.txt\n",
    "!pip install -r ./pmdarima/requirements.txt\n",
    "\n",
    "# Install requirements for TimeMoE \n",
    "!pip install -r ./Time-MoE/requirements.txt\n",
    "\n",
    "# Install requirements for all the others including Time-Series-Library, CMamba, etc.\n",
    "!pip install -r ./requirements.txt\n",
    "\n",
    "!cd pmdarima; python setup.py develop; python setup.py install\n",
    "# !rm -rf pmdarima\n"
   ]
  },
  {
   "cell_type": "markdown",
   "metadata": {},
   "source": [
    "### Run test scripts (or, python run.py with proper arguments)"
   ]
  },
  {
   "cell_type": "code",
   "execution_count": null,
   "metadata": {},
   "outputs": [],
   "source": [
    "!sh ./tests/scripts/test_default.sh "
   ]
  }
 ],
 "metadata": {
  "kernelspec": {
   "display_name": "tabe",
   "language": "python",
   "name": "python3"
  },
  "language_info": {
   "codemirror_mode": {
    "name": "ipython",
    "version": 3
   },
   "file_extension": ".py",
   "mimetype": "text/x-python",
   "name": "python",
   "nbconvert_exporter": "python",
   "pygments_lexer": "ipython3",
   "version": "3.10.16"
  }
 },
 "nbformat": 4,
 "nbformat_minor": 2
}
